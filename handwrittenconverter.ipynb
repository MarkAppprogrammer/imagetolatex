{
 "cells": [
  {
   "cell_type": "code",
   "execution_count": 1,
   "id": "f1a99064",
   "metadata": {
    "_cell_guid": "b1076dfc-b9ad-4769-8c92-a6c4dae69d19",
    "_uuid": "8f2839f25d086af736a60e9eeb907d3b93b6e0e5",
    "execution": {
     "iopub.execute_input": "2024-08-10T01:30:42.547673Z",
     "iopub.status.busy": "2024-08-10T01:30:42.547258Z",
     "iopub.status.idle": "2024-08-10T01:30:54.422226Z",
     "shell.execute_reply": "2024-08-10T01:30:54.420868Z"
    },
    "papermill": {
     "duration": 11.881797,
     "end_time": "2024-08-10T01:30:54.425076",
     "exception": false,
     "start_time": "2024-08-10T01:30:42.543279",
     "status": "completed"
    },
    "tags": []
   },
   "outputs": [
    {
     "name": "stdout",
     "output_type": "stream",
     "text": [
      "loaded 10000 samples\n"
     ]
    }
   ],
   "source": [
    "import json\n",
    "\n",
    "#load images + labels\n",
    "batch1File = open(\"/kaggle/input/ocr-data/batch_1/JSON/kaggle_data_1.json\")\n",
    "data = json.load(batch1File)\n",
    "print(\"loaded \" + str(len(data)) + \" samples\")"
   ]
  },
  {
   "cell_type": "code",
   "execution_count": null,
   "id": "314a6a49",
   "metadata": {
    "papermill": {
     "duration": 0.001853,
     "end_time": "2024-08-10T01:30:54.429463",
     "exception": false,
     "start_time": "2024-08-10T01:30:54.427610",
     "status": "completed"
    },
    "tags": []
   },
   "outputs": [],
   "source": []
  }
 ],
 "metadata": {
  "kaggle": {
   "accelerator": "none",
   "dataSources": [
    {
     "datasetId": 829456,
     "sourceId": 1432361,
     "sourceType": "datasetVersion"
    }
   ],
   "dockerImageVersionId": 30746,
   "isGpuEnabled": false,
   "isInternetEnabled": false,
   "language": "python",
   "sourceType": "notebook"
  },
  "kernelspec": {
   "display_name": "Python 3",
   "language": "python",
   "name": "python3"
  },
  "language_info": {
   "codemirror_mode": {
    "name": "ipython",
    "version": 3
   },
   "file_extension": ".py",
   "mimetype": "text/x-python",
   "name": "python",
   "nbconvert_exporter": "python",
   "pygments_lexer": "ipython3",
   "version": "3.10.13"
  },
  "papermill": {
   "default_parameters": {},
   "duration": 15.474161,
   "end_time": "2024-08-10T01:30:54.953334",
   "environment_variables": {},
   "exception": null,
   "input_path": "__notebook__.ipynb",
   "output_path": "__notebook__.ipynb",
   "parameters": {},
   "start_time": "2024-08-10T01:30:39.479173",
   "version": "2.5.0"
  }
 },
 "nbformat": 4,
 "nbformat_minor": 5
}
